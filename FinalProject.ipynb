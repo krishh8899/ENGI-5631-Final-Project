{
 "cells": [
  {
   "cell_type": "markdown",
   "metadata": {},
   "source": [
    "## Final Project\n",
    "\n",
    "### 1)Introduction\n",
    "\n",
    "This notebook is all about the Python tutorial and accessing it from GitHub website.\n",
    "\n",
    "Python is a general-purpose interpreted, interactive, object-oriented, and high-level programming language. It was created by Guido van Rossum during 1985-1990. Python source code is available under the GNU General Public License (GPL) and it is therefore an open-source tool. This tutorial will allow you to learn basic Python programming from scratch with some basis of C, Matlab or any other structured programming language.\n",
    "\n",
    "\n",
    "### 2)History and Basic Principles\n",
    "\n",
    "Python is a high-level, interpreted, interactive and object-oriented scripting language. It uses English keywords frequently and it has fewer syntactical constructions than other languages.\n",
    "1. Python is Interpreted: You do not need to compile your program before executing it.\n",
    "2. Python is Interactive: You can type commands directly on a line.\n",
    "3. Python is Object-Oriented: programming encapsulates code within objects.\n",
    "4. Python has currently a wide range of applications and libraries available from simple text\n",
    "processing to WWW browsers to games.\n",
    "5. Python's bulk of the library is very portable and cross-platform compatible on UNIX, Windows,\n",
    "and Macintosh.\n",
    "6. Python can run on a wide variety of hardware platforms and has the same interface on all\n",
    "platforms.\n",
    "7. Python is extensible: modules can be added to enable programmers to add to or customize their tools to be more e_cient.\n",
    "8. Python provides interfaces to all major commercial databases.\n",
    "9. Python supports GUI applications that can be created and ported to many system calls, libraries and windows systems, such as Windows MFC, Macintosh, and the X Window system of Unix.\n",
    "10. Python can be easily integrated with C, C++, COM, ActiveX, CORBA, and Java. \n",
    "\n",
    "Python was developed by Guido van Rossum in the late eighties and early nineties at the National Research Institute for Mathematics and Computer Science in the Netherlands. It is derived from many other languages, including ABC, Modula-3, C, C++, Algol-68, SmallTalk, and Unix shell and other scripting languages. Python is copyrighted but the source code is available under the GNU General Public License (GPL).\n",
    "\n",
    "\n",
    "### 3)Installation\n",
    "\n",
    "Python has been installed in the computers in AT4019 on the Ubuntu partition. Login into Ubuntu using your myInfo username and password. Then open a terminal window. To verify installation, type \"python\" in the command line to find out if it is already installed and which version is installed.\n",
    "\n",
    "If you are interested in getting Python for your Windows platform you can download it from https://www.python.org/downloads/windows/ \n",
    "If you prefer a Linux platform you can download it from https://www.python.org/downloads/ubuntu\n",
    "\n",
    "The instructions for installation are given in those pages. But in general:\n",
    "1. Download Gzipped source\n",
    "2. Extract\n",
    "3. Con_gure and Install\n",
    "\n",
    "Python's Official Website is at http://www.python.org/\n",
    "You can download Python documentation from the following site.\n",
    "\n",
    "\n",
    "### 4)Running Python\n",
    "There are three di_erent ways to start Python:\n",
    "1. Interactive Interpreter: you can start Python from Unix, DOS, or any other system that provides you a command-line interpreter or shell window.\n",
    "2. Executing scripts: you can start a series of Python commands by typing the name of a script with those commands\n",
    "3. Using an integrated development environment\n",
    "4. Using the interactive web application Jupyter that allows you to create and share documents that contain live code, equations, visualizations and explanatory text.\n",
    "\n",
    "\n",
    "#### 4.1) Command line\n",
    "Start coding right in the interactive interpreter.\n",
    "$python # Unix/Linux\n",
    "or\n",
    "C:>python # Windows/DOS\n",
    "\n",
    "#### 4.2)Script\n",
    "A Python script (here script.py) can be executed at command line by invoking the interpreter on your application, as in the following:\n",
    "$python script.py # Unix/Linux\n",
    "\n",
    "#### 4.3) Integrated Development Environment \n",
    "You can run Python from a Graphical User Interface (GUI) environment as well, if you have a GUI application on your system that supports Python. Unix uses IDLE as a Unix IDE for Python. Windows has PythonWin as a Windows interface for Python and is an IDE with a GUI. Macintosh has either MacBinary or BinHex'd as an environment. Since the Python Programming environment is already installed ine, so that you can execute all the available examples online at the same time when you are learning theory. Feel free to modify any example and execute it online.\n",
    "\n",
    "#### 4.4 Jupyter\n",
    "We will use in the course Jupyter as our tool for Python. This allows me to show finished text and code embedded units as a notebook for class and you can download the notebooks and modify them as required to practice and complete assignments.\n",
    "\n",
    "\n",
    "### 5)First command in Python\n",
    "Let some Python commands using the Interactive Mode Programming first so you are familiar with some first commands to be discussed here.\n",
    "Invoke the interpreter\n",
    "$ python\n",
    "Python 3.3.2 (default, Dec 10 2013, 11:35:01)\n",
    "[GCC 4.6.3] on Linux\n",
    "Type \"help\", \"copyright\", \"credits\", or \"license\" for more information.\n",
    "You will have a different prompt that shows you are now in the Python environment. Execute\n",
    "your first Python command:\n",
    "\n",
    "print (\"Hello world using Python!\")\n",
    "\n",
    "This is the classic first command in programming. You just ran your first Python command.\n",
    "If you entered that command in a text file with extension .py you could invoke the script directly and obtain the same result.\n",
    "\n",
    "Below is the result for the first Python command"
   ]
  },
  {
   "cell_type": "code",
   "execution_count": 2,
   "metadata": {
    "collapsed": false
   },
   "outputs": [
    {
     "name": "stdout",
     "output_type": "stream",
     "text": [
      "Hello world using Python!\n"
     ]
    }
   ],
   "source": [
    "print (\"Hello world using Python!\")"
   ]
  },
  {
   "cell_type": "markdown",
   "metadata": {},
   "source": [
    "### 6) Basics of Python\n",
    "\n",
    "#### 6.1) Identifiers, comments, suites and indentation\n",
    "\n",
    "A Python identifier is a name used to identify a variable, function, class, module or other object. An identifier starts with a letter A to Z or a to z or an underscore _ followed by zero or more letters, underscores and digits (0 to 9). Python does not allow punctuation characters and it is a case sensitive programming language.\n",
    "\n",
    "There are some reserved words that cannot be used as identifiers: and exec Not as finally or assert for pass break from print class global raise continue if return def import try del in while elif is with else lambda yield except.\n",
    "\n",
    "Python doesn't use braces() to indicate blocks of code for class and function definitions or flow control. It uses line indentation, which is rigidly enforced. The number of spaces in the indentation is variable, but all statements within the block must be indented the same amount.\n"
   ]
  },
  {
   "cell_type": "code",
   "execution_count": 4,
   "metadata": {
    "collapsed": false
   },
   "outputs": [
    {
     "name": "stdout",
     "output_type": "stream",
     "text": [
      "True\n"
     ]
    }
   ],
   "source": [
    "if True:\n",
    "    print(\"True\")\n",
    "else:\n",
    "    print(\"False\")"
   ]
  },
  {
   "cell_type": "code",
   "execution_count": 51,
   "metadata": {
    "collapsed": false
   },
   "outputs": [
    {
     "name": "stdout",
     "output_type": "stream",
     "text": [
      "Answer\n",
      "True\n"
     ]
    }
   ],
   "source": [
    "# properly indented\n",
    "if True:\n",
    "    print(\"Answer\")\n",
    "    print(\"True\")\n",
    "else:\n",
    "    print(\"Answer\")\n",
    "    print(\"False\")"
   ]
  },
  {
   "cell_type": "markdown",
   "metadata": {},
   "source": [
    "But if in Python the continuous lines are indented with different number of spaces you will  have an error:\n"
   ]
  },
  {
   "cell_type": "code",
   "execution_count": 52,
   "metadata": {
    "collapsed": false
   },
   "outputs": [
    {
     "ename": "IndentationError",
     "evalue": "unindent does not match any outer indentation level (<ipython-input-52-511277d01d2c>, line 7)",
     "output_type": "error",
     "traceback": [
      "\u001b[1;36m  File \u001b[1;32m\"<ipython-input-52-511277d01d2c>\"\u001b[1;36m, line \u001b[1;32m7\u001b[0m\n\u001b[1;33m    print(\"False\")\u001b[0m\n\u001b[1;37m                  ^\u001b[0m\n\u001b[1;31mIndentationError\u001b[0m\u001b[1;31m:\u001b[0m unindent does not match any outer indentation level\n"
     ]
    }
   ],
   "source": [
    "# improperly indented\n",
    "if True:\n",
    "    print(\"Answer\")\n",
    "    print(\"True\")\n",
    "else:\n",
    "    print(\"Answer\")\n",
    " print(\"False\")"
   ]
  },
  {
   "cell_type": "markdown",
   "metadata": {},
   "source": [
    "Statements in Python typically end with a new line. Python does, however, allow the use of the line continuation character \\ to denote that the line should continue.\n",
    "\n",
    "total = item_one + \\ <br />\n",
    "item_two + \\ <br />\n",
    "item_three <br />\n",
    "\n",
    "Statements contained within the [] or () brackets do not need to use the line continuation character.<br />\n",
    "days = ['Monday', 'Tuesday', 'Wednesday',<br />\n",
    "'Thursday', 'Friday']\n",
    "\n",
    "Python accepts single ('), double (\") and triple (\"' or \"\"\") quotes to denote string literals, as long as the same type of quote starts and ends the string. The triple quotes are used to span the string across multiple lines. Some examples of correct use of quotes:\n",
    "\n",
    "word = 'word'<br />\n",
    "sentence = \"This is a sentence.\"<br />\n",
    "paragraph = \"\"\"This is a paragraph. It is<br />\n",
    "made up of multiple lines and sentences.\"\"\"<br />\n",
    "\n",
    "Comments in Python are made using a hash sign (#) that is not inside a string and blank lines are ignored by Python. \n",
    "\n",
    "The semicolon ( ; ) allows multiple statements on the single line given that neither statement starts a new code block.\n",
    "\n",
    "import sys; x = 'foo'; sys.stdout.write(x + '\\n')\n",
    "\n",
    "A group of individual statements, which make a single code block are called suites. Compound or complex statements, such as if, while, def, and class require a header line and a suite. A header line begins the statement (with the keyword) and terminate with a colon ( : ) and are followed by one or more lines which make up the suite.<br />\n",
    "\n",
    "if expression :<br />\n",
    "suite <br />\n",
    "elif expression :<br />\n",
    " suite <br />\n",
    "else :<br />\n",
    " suite<br />\n",
    "\n"
   ]
  },
  {
   "cell_type": "markdown",
   "metadata": {},
   "source": [
    "#### 6.2) Assigning values\n",
    "Variables do not need explicit declaration to reserve memory space. The equal sign (=) is used to assign values to variables.\n",
    "\n",
    "#!/usr/bin/python3\n"
   ]
  },
  {
   "cell_type": "code",
   "execution_count": 15,
   "metadata": {
    "collapsed": false
   },
   "outputs": [
    {
     "name": "stdout",
     "output_type": "stream",
     "text": [
      "100\n",
      "1000.0\n",
      "John\n"
     ]
    }
   ],
   "source": [
    "counter = 100 # An integer assignment\n",
    "miles = 1000.0 # A floating point\n",
    "name = \"John\" # A string\n",
    "\n",
    "print (counter)\n",
    "print (miles)\n",
    "print (name)\n"
   ]
  },
  {
   "cell_type": "markdown",
   "metadata": {},
   "source": [
    "Python allows you to assign a single value to several variables simultaneously."
   ]
  },
  {
   "cell_type": "code",
   "execution_count": 17,
   "metadata": {
    "collapsed": false
   },
   "outputs": [
    {
     "name": "stdout",
     "output_type": "stream",
     "text": [
      "Printing the first set\n",
      "1\n",
      "1\n",
      "1\n",
      "Printing the second set\n",
      "1\n",
      "2\n",
      "john\n"
     ]
    }
   ],
   "source": [
    "\n",
    "print(\"Printing the first set\")\n",
    "a = b = c = 1\n",
    "\n",
    "print(a)\n",
    "print(b)\n",
    "print(c)\n",
    "\n",
    "\n",
    "print(\"Printing the second set\")\n",
    "a, b, c = 1, 2, \"john\"\n",
    "print(a)\n",
    "print(b)\n",
    "print(c)"
   ]
  },
  {
   "cell_type": "markdown",
   "metadata": {},
   "source": [
    "In the first all a, b and c will be equal to 1. In the second example a=1, then b=2 and c=john (string)"
   ]
  },
  {
   "cell_type": "markdown",
   "metadata": {
    "collapsed": true
   },
   "source": [
    "#### 6.3) Data Types\n",
    "Python has five standard data types:\n",
    "1. Numbers: numeric values that can be integer (decimal, octal, hexadecimal), roots or complex\n",
    "2. String: characters from 1 to many characters; they are indexed using [] and [:] similar to\n",
    "Matlab but the index starts in 0\n",
    "3. Set: unordered collection of immutable values\n",
    "4. List: different items separated by commas, similar to an array but the items belonging to a\n",
    "list can be of different data types\n",
    "5. Tuple: lists that are read-only\n",
    "6. Dictionary: work like associative arrays and consist of key-value pairs. A dictionary key can\n",
    "be almost any Python type, but are usually numbers or strings. Values can be any arbitrary\n",
    "Python object.\n",
    "\n"
   ]
  },
  {
   "cell_type": "code",
   "execution_count": 43,
   "metadata": {
    "collapsed": false
   },
   "outputs": [
    {
     "name": "stdout",
     "output_type": "stream",
     "text": [
      "\n",
      "List operations\n",
      "['abcd', 786, 2.23, 'john', 70.2]\n",
      "abcd\n",
      "[786, 2.23]\n",
      "[2.23, 'john', 70.2]\n",
      "[123, 'john', 123, 'john']\n",
      "['abcd', 786, 2.23, 'john', 70.2, 123, 'john']\n",
      "\n",
      "Dictionary operations\n",
      "This is one\n",
      "This is two\n",
      "{'dept': 'sales', 'code': 6734, 'name': 'john'}\n",
      "dict_keys(['dept', 'code', 'name'])\n",
      "dict_values(['sales', 6734, 'john'])\n"
     ]
    }
   ],
   "source": [
    "list = [ 'abcd', 786 , 2.23, 'john', 70.2 ]\n",
    "tinylist = [123, 'john']\n",
    "\n",
    "print (\"\\nList operations\")\n",
    "print (list) # Prints complete list\n",
    "print (list[0]) # Prints first element of the list\n",
    "print (list[1:3]) # Prints elements starting from 2nd till 3rd\n",
    "print (list[2:]) # Prints elements starting from 3rd element\n",
    "print (tinylist * 2) # Prints list two times\n",
    "print (list + tinylist) # Prints concatenated lists\n",
    "\n",
    "print (\"\\nDictionary operations\")\n",
    "dict = {}\n",
    "dict['one'] = \"This is one\"\n",
    "dict[2] = \"This is two\"\n",
    "tinydict = {'name': 'john','code':6734, 'dept': 'sales'}\n",
    "print (dict['one']) # Prints value for 'one' key\n",
    "print (dict[2]) # Prints value for 2 key\n",
    "print (tinydict) # Prints complete dictionary\n",
    "print (tinydict.keys()) # Prints all the keys\n",
    "print (tinydict.values()) # Prints all the values"
   ]
  },
  {
   "cell_type": "markdown",
   "metadata": {},
   "source": [
    "When to use list vs. tuple vs. dictionary vs. set?\n",
    "1. A list is like an array, it can be used to store homogeneous as well as heterogeneous data types\n",
    "and individual elements of a list can be accessed using indexing and can be manipulated. Only\n",
    "use if the elements in the list need searching.\n",
    "2. A tuple has similar uses to lists, but there data cannot be changed once created. So they are\n",
    "useful for immutable lists.\n",
    "3. A set stores unordered values so they will have no index and cannot have any duplicate data.\n",
    "Once created elements can be added. Sets are significantly faster when searching an element\n",
    "than lists but cannot be indexed.\n",
    "4. A dictionary will be used when a pair of key vs. value is required. All indexing is done by\n",
    "using those keys, not numerical indexes.\n"
   ]
  },
  {
   "cell_type": "markdown",
   "metadata": {},
   "source": [
    "#### 6.4) Data Conversion\n",
    "Conversions between the built-in types are performed by functions. There are several built-in functions\n",
    "to perform conversion from one data type to another. These functions return a new object\n",
    "representing the converted value.\n",
    "\n",
    "int(x [,base]): Converts x to an integer. base specifies the base if x is a string.<br />\n",
    "float(x): Converts x to a floating-point number.<br />\n",
    "complex(real [,imag]): Creates a complex number.<br />\n",
    "str(x): Converts object x to a string representation.<br />\n",
    "repr(x): Converts object x to an expression string.<br />\n",
    "eval(str): Evaluates a string and returns an object.<br />\n",
    "tuple(s): Converts s to a tuple.<br />\n",
    "list(s): Converts s to a list.<br />\n",
    "dict(d): Creates a dictionary. d must be a sequence of (key,value) tuples.<br />\n",
    "frozenset(s): Converts s to a frozen set.<br />\n",
    "chr(x): Converts an integer to a character.<br />\n",
    "unichr(x): Converts an integer to a Unicode character.<br />\n",
    "ord(x): Converts a single character to its integer value.<br />\n",
    "hex(x): Converts an integer to a hexadecimal string.<br />\n",
    "oct(x): Converts an integer to an octal string.<br />\n"
   ]
  },
  {
   "cell_type": "code",
   "execution_count": 44,
   "metadata": {
    "collapsed": false
   },
   "outputs": [
    {
     "name": "stdout",
     "output_type": "stream",
     "text": [
      "sum of two integer: 15\n",
      "\n",
      "adding of two string is concatenation: 510\n",
      "\n",
      "float number is 4.6\n",
      "float is converted to int 4  and decimal is truncated\n"
     ]
    }
   ],
   "source": [
    "a = 5  # a is an integer.\n",
    "b = 10 # b is an integer.\n",
    "\n",
    "c= a+b\n",
    "print(\"sum of two integer:\",c)\n",
    "\n",
    "#converting integer to string\n",
    "d=str(a)\n",
    "e=str(b)\n",
    "\n",
    "f=d+e\n",
    "print(\"\\nadding of two string is concatenation:\",f)\n",
    "\n",
    "#converting float to int\n",
    "z=4.6 #Z is a float number\n",
    "y=int(z)\n",
    "print(\"\\nfloat number is\",z)\n",
    "print(\"float is converted to int\",y,\" and decimal is truncated\")"
   ]
  },
  {
   "cell_type": "markdown",
   "metadata": {},
   "source": [
    "####  6.5) Operators\n",
    "Operators are the constructs which can manipulate the value of operands.\n",
    "1. Arithmetic Operators: +, -, *, /, % (modulus), ** (exponent), // (floor division: quotient)\n",
    "2. Comparison Operators: == (equality), != (not equality), >, <, >=, <=\n",
    "3. Assignment Operators: =, += (c += a is the same as c = c+a), -=, *=, /=, **=, //=,\n",
    "4. Logical Operators: and, or, not\n",
    "5. Bitwise Operators: &, j, ^ (XOR), ~(Ones complement or bit flip)\n",
    "6. Membership Operators (check for membership in a list, tuple, etc.): in, not in\n",
    "7. Identity Operators (check if the operator point to the same object): is, is not\n",
    "The precedence from highest to lowest is:\n",
    "Exponentiation, Multiplication/Division/Modulus/Floor Division, Addition/Subtraction, Right/Left\n",
    "Bit-shift, And/Or Bitwise, Comparison operators, Equality operators, Assignment operators, Identity\n",
    "operators, Membership operators and Logical operators\n"
   ]
  },
  {
   "cell_type": "code",
   "execution_count": 45,
   "metadata": {
    "collapsed": false
   },
   "outputs": [
    {
     "name": "stdout",
     "output_type": "stream",
     "text": [
      "\n",
      "value of a is: 1\n",
      "\n",
      "value of b is: 10\n",
      "\n",
      "value of a is: 2\n",
      "\n",
      "value of b is: 9\n",
      "\n",
      "value of a is: 3\n",
      "\n",
      "value of b is: 8\n",
      "\n",
      "value of a is: 4\n",
      "\n",
      "value of b is: 7\n",
      "\n",
      "value of a is: 5\n",
      "\n",
      "value of b is: 6\n",
      "\n",
      "value of a is: 6\n",
      "\n",
      "value of b is: 5\n",
      "\n",
      "value of a is: 7\n",
      "\n",
      "value of b is: 4\n",
      "\n",
      "value of a is: 8\n",
      "\n",
      "value of b is: 3\n",
      "\n",
      "value of a is: 9\n",
      "\n",
      "value of b is: 2\n",
      "\n",
      "value of a is: 10\n",
      "\n",
      "value of b is: 1\n"
     ]
    }
   ],
   "source": [
    "# printing the numbers in increasing order and decreasing order\n",
    "\n",
    "a=1  # = is an assignment operator\n",
    "b=10\n",
    "\n",
    "for i in range(0, 10):   # in is membership operator\n",
    "    if( (a<=10) or (b>=1)):   # >=,<= is a comparison operator  or is a logical operator\n",
    "        print(\"\\nvalue of a is:\",a)\n",
    "        print(\"\\nvalue of b is:\",b)\n",
    "        a+=1;   \n",
    "        b-=1;\n",
    "        \n"
   ]
  },
  {
   "cell_type": "markdown",
   "metadata": {},
   "source": [
    "#### 6.6 Decisions and Loops\n",
    "Decision making and loops are used to execute commands depending on the outcome of logical tests. Remember that indentation allows for nesting (group of commands) to happen, so all statements should be indented at the same level or you will get an error.\n",
    "\n",
    "The basic decision making is if/else:<br />\n",
    "if expression1: :<br />\n",
    "statement(s) :<br />\n",
    "elif expression2: :<br />\n",
    "statement(s) :<br />\n",
    "elif expression3: :<br />\n",
    "statement(s) :<br />\n",
    "else: :<br />\n",
    "statement(s) :<br />\n",
    "\n",
    "Where elif is used as equivalent to \"else, then if\" chain."
   ]
  },
  {
   "cell_type": "code",
   "execution_count": 46,
   "metadata": {
    "collapsed": false
   },
   "outputs": [
    {
     "name": "stdout",
     "output_type": "stream",
     "text": [
      "while Loop\n",
      "The count is: 0\n",
      "The count is: 1\n",
      "The count is: 2\n",
      "The count is: 3\n",
      "The count is: 4\n",
      "The count is: 5\n",
      "The count is: 6\n",
      "The count is: 7\n",
      "The count is: 8\n",
      "9  is not less than 9\n",
      "\n",
      "For Loop\n",
      "Current Letter : P\n",
      "Current Letter : y\n",
      "Current Letter : t\n",
      "Current Letter : h\n",
      "Current Letter : o\n",
      "Current Letter : n\n",
      "\n",
      "\n",
      "Current fruit : banana\n",
      "Current fruit : apple\n",
      "Current fruit : mango\n",
      "\n",
      "\n",
      "Current fruit : banana\n",
      "Current fruit : apple\n",
      "Current fruit : mango\n"
     ]
    }
   ],
   "source": [
    "print(\"while Loop\")\n",
    "count = 0\n",
    "while(count < 9):\n",
    "    print('The count is:', count)\n",
    "    count = count + 1\n",
    "else:\n",
    "    print(count, \" is not less than 9\")\n",
    "\n",
    "#A while with a single statement is possible and will not need indentation (this loop will only increasecount):\n",
    "while(count < 9): \n",
    "    count=count+1\n",
    "\n",
    "print(\"\\nFor Loop\")\n",
    "#The for loop:\n",
    "for letter in 'Python': # traversal of a string sequence\n",
    "    print('Current Letter :', letter)\n",
    "\n",
    "    \n",
    "\n",
    "print(\"\\n\")\n",
    "\"\"\"By default a for will loop through the elements of a list, which in this case is the string 'Python'\n",
    "but it can be also a list of strings:\"\"\"\n",
    "fruits = ['banana', 'apple', 'mango']\n",
    "for fruit in fruits: # traversal of List sequence\n",
    "    print('Current fruit :', fruit)\n",
    "\n",
    "print(\"\\n\")\n",
    "#Or an index in the list if we use range:\n",
    "fruits = ['banana', 'apple', 'mango']\n",
    "for index in range(len(fruits)):\n",
    "    print ('Current fruit :', fruits[index])\n"
   ]
  },
  {
   "cell_type": "markdown",
   "metadata": {},
   "source": [
    "#### 6.7) Built-in mathematical functions\n",
    "Python includes following functions that perform mathematical calculations.\n",
    "\n",
    " abs(x): absolute value of x: the (positive) distance between x and zero<br \\>\n",
    " ceil(x): ceiling of x: the smallest integer not less than x<br \\>\n",
    " exp(x): ex<br \\>\n",
    " fabs(x): absolute value of x (no sign)<br \\>\n",
    " floor(x): floor of x<br \\>\n",
    " log(x): natural logarithm of x<br \\>\n",
    " log10(x): base-10 logarithm of x<br \\>\n",
    " max(x1, x2,...): largest of its arguments<br \\>\n",
    " min(x1, x2,...): smallest of its arguments<br \\>\n",
    " modf(x): fractional and integer parts of x in a two-item tuple<br \\>\n",
    " round(x [,n]): x rounded to n digits from the decimal point<br \\>\n",
    " sqrt(x): square root of x<br \\>\n",
    " randrange([start,] stop [,step]): randomly selected element from range(start, stop, step)<br \\>\n",
    " random(): random float r between 0 and 1<br \\>\n",
    " seed([x]): integer starting value used in generating random numbers (has to be called before\n",
    "random module functions)<br \\>\n",
    " shuffle(lst): randomizes the items of a list in place<br \\>\n",
    " uniform(x, y): random oat between x and y<br \\>\n",
    " acos(x): arc cosine of x in radians<br \\>\n",
    " asin(x): arc sine of x in radians<br \\>\n",
    " atan(x): arc tangent of x in radians<br \\>\n",
    " atan2(y, x): atan(y/x) in radians<br \\>\n",
    " cos(x): cosine of x radians<br \\>\n",
    " hypot(x, y): Euclidean norm or $ \\sqrt{x^{2} +y^{2}} $<br \\>\n",
    " sin(x): sine of x radians<br \\>\n",
    " tan(x): tangent of x radians<br \\>\n",
    " degrees(x): angle x from radians to degrees<br \\>\n",
    " radians(x): angle x from degrees to radians<br \\>\n",
    " pi: mathematical constant pi<br \\>\n",
    " e: mathematical constant e<br \\>\n"
   ]
  },
  {
   "cell_type": "code",
   "execution_count": 50,
   "metadata": {
    "collapsed": false
   },
   "outputs": [
    {
     "name": "stdout",
     "output_type": "stream",
     "text": [
      "Cos of x is: (-0.9899924966004454-0j)\n",
      "Sin of x is: (0.1411200080598672-0j)\n",
      "Tan of x is: (-0.1425465430742778+0j)\n",
      "reprensentation of constant π: 3.141592653589793\n",
      "reprensentation of constant e: 2.718281828459045\n"
     ]
    }
   ],
   "source": [
    "import cmath as math\n",
    "\n",
    "x = 3\n",
    "\n",
    "# builtin math function\n",
    "print(\"Cos of x is:\",math.cos(x))\n",
    "print(\"Sin of x is:\",math.sin(x))\n",
    "print(\"Tan of x is:\",math.tan(x))\n",
    "print(\"reprensentation of constant π:\",math.pi)\n",
    "print(\"reprensentation of constant e:\",math.e)"
   ]
  },
  {
   "cell_type": "markdown",
   "metadata": {},
   "source": [
    "#### 6.8) Strings and string functions\n",
    "As discussed before, string handling are one of the strengths or Python. Python does not support a character type but it uses strings of length one. To access substrings, use the square brackets for slicing along with the index or indices to obtain your substring.\n"
   ]
  },
  {
   "cell_type": "code",
   "execution_count": 49,
   "metadata": {
    "collapsed": false
   },
   "outputs": [
    {
     "name": "stdout",
     "output_type": "stream",
     "text": [
      "var1[0]:  H\n",
      "var2[1:5]:  ytho\n",
      "converting to Upper: LOWER IS CONVERTED TO UPPER\n",
      "converting to lower: upper is converted to lower\n",
      "Length of var3 is: 27\n",
      "white space in the var3: False\n"
     ]
    }
   ],
   "source": [
    "var1 = 'Hello World!'\n",
    "var2 = \"Python Programming\"\n",
    "print (\"var1[0]: \", var1[0])\n",
    "print (\"var2[1:5]: \", var2[1:5])\n",
    "\n",
    "var3 = 'lower is converted to upper'\n",
    "var4 = 'UPPER IS CONVERTED TO LOWER'\n",
    "\n",
    "# builtin function in string\n",
    "print(\"converting to Upper:\",var3.upper())\n",
    "print(\"converting to lower:\",var4.lower())\n",
    "print(\"Length of var3 is:\",len(var3))\n",
    "print(\"white space in the var3:\",var3.isspace())"
   ]
  },
  {
   "cell_type": "code",
   "execution_count": 48,
   "metadata": {
    "collapsed": false
   },
   "outputs": [
    {
     "name": "stdout",
     "output_type": "stream",
     "text": [
      "Updated String :-  Hello Python\n"
     ]
    }
   ],
   "source": [
    "var1 = 'Hello World!'\n",
    "print (\"Updated String :- \", var1[:6] + 'Python')"
   ]
  },
  {
   "cell_type": "markdown",
   "metadata": {},
   "source": [
    "Similar to what is used in Matlab or C, escape or non-printable characters can be represented\n",
    "with backslash notation to manipulate the output of a string:\n",
    "\n",
    "\\a Bell or alert<br \\>\n",
    "\\b Backspace<br \\>\n",
    "\\cx Control-x<br \\>\n",
    "\\ne Escape<br \\>\n",
    "\\f Form-feed<br \\>\n",
    "\\n Newline<br \\>\n",
    "\\r Carriage return<br \\>\n",
    "\\s Space<br \\>\n",
    "\\t Tab<br \\>\n",
    "\\v Vertical tab<br \\>\n",
    "The operators act: <br \\>\n",
    "\n",
    "\"+\" Concatenation - Adds values on either side of the operator<br \\>\n",
    "\"**\" Repetition - Creates new strings, concatenating multiple copies of the same string a*2 will\n",
    "give -HelloHello<br \\>\n",
    "Slice - Gives the character from the given index between brackets<br \\>\n",
    "Range Slice - Gives the characters from the given range (index starts at 0) <br \\>\n",
    "in Membership - Returns true if a character exists in the given string<br \\>\n",
    "not in Membership - Returns true if a character does not exist in the given string<br \\>\n",
    " r/R Raw String - Suppresses actual meaning of Escape characters<br \\>\n",
    "% Format - Performs String formatting just as in C or Matlab and the printf()<br \\>\n",
    "\n",
    "print (\"My name is %s and weight is %d kg!\" % ('Zara', 21)) <br \\>\n",
    "\n",
    "Produces the following result<br \\>\n",
    "My name is Zara and weight is 21 kg! <br \\>\n",
    "\n",
    "And the symbols which can be used along with % are: %c (character), %s (string), %i (integer),%d (signed integer), %u (unsigned decimal integer), %o (octal integer), %x or %X (hexadecimalinteger), %e or %E (exponential notation), %f (floating real number), %g (the shorter string between float or exponential notation) <br \\>\n",
    "\n",
    "Other supported symbols in formatting: * (width or precision), - (left justification), + (display the sign), <sp> (leave a blank space before a positive number), # (add the octal or hexadecimal with a 0), 0 (pad from left with zeros), %% (single literal %), m.n. (m is the minimum total width and n is the number of digits to display after the decimal point) <br \\>\n",
    "\n",
    "Python accepts ', \" or \"\" as quotes as discussed before and the triple quotes allow for multiple line text automatically to display in that format. <br \\>\n",
    "\n",
    "\n",
    "Python has some built-in methods to manipulate strings:<br \\>\n",
    "capitalize(): capitalizes first letter of string<br \\>\n",
    "center(width, fillchar): returns a string padded with fillchar with the original string centered to a total of width columns<br \\>\n",
    "count(str, beg= 0,end=len(string)): counts how many times str occurs in string or in a substring of string if starting index beg and ending index end are given<br \\>\n",
    "decode(encoding='UTF-8',errors='strict'): decodes the string using the codec registered for encoding<br \\>\n",
    "encode(encoding='UTF-8',errors='strict'): encodes the string<br \\>\n",
    "endswith(su_x, beg=0, end=len(string)): determines if string or a substring of string (if starting index beg and ending index end are given) ends with suffix; returns true if so and false otherwise <br \\>\n",
    "expandtabs(tabsize=8): expands tabs in string to multiple spaces; defaults to 8 spaces per tab if tabsize not provided<br \\>\n",
    "find(str, beg=0 end=len(string)): determines if str occurs in string or in a substring of string if starting index beg and ending index end are given returns index if found and -1 otherwise<br \\>\n",
    "index(str, beg=0, end=len(string)): same as find(), but raises an exception if str not found<br \\>\n",
    "isalnum(): returns true if string has at least 1 character and all characters are alphanumeric and false otherwise<br \\>\n",
    "isalpha(): returns true if string has at least 1 character and all characters are alphabetic and false otherwise<br \\>\n",
    "isdigit(): returns true if string contains only digits and false otherwise<br \\>\n",
    "islower(): returns true if string has at least 1 cased character and all cased characters are in lowercase and false otherwise<br \\>\n",
    "isnumeric(): returns true if a unicode string contains only numeric characters and false otherwise<br \\>\n",
    "isspace(): returns true if string contains only whitespace characters and false otherwise<br \\>\n",
    "istitle(): returns true if string is properly \"titlecased\" and false otherwise<br \\>\n",
    "isupper(): returns true if string has at least one cased character and all cased characters are in uppercase and false otherwise<br \\>\n",
    "join(seq): merges or concatenates the string representations of elements in sequence seq into a string, with separator string<br \\>\n",
    "len(string): returns the length of the string<br \\>\n",
    "ljust(width[, _llchar]): returns a space-padded string with the original string left-justified to a total of width columns<br \\>\n",
    "lower(): converts all uppercase letters in string to lowercase<br \\>\n",
    "lstrip(): removes all leading whitespace in string<br \\>\n",
    "maketrans(): returns a translation table to be used in translate function<br \\>\n",
    "max(str): returns the max alphabetical character from the string str<br \\>\n",
    "min(str): returns the min alphabetical character from the string str<br \\>\n",
    "replace(old, new [, max]): replaces all occurrences of old in string with new or at most max occurrences if max given<br \\>\n",
    "rfind(str, beg=0,end=len(string)): same as find(), but search backwards in string<br \\>\n",
    "rindex( str, beg=0, end=len(string)): same as index(), but search backwards in string<br \\>\n",
    "rjust(width,[, _llchar]): returns a space-padded string with the original string right-justified to a total of width columns<br \\>\n",
    "rstrip(): removes all trailing whitespace of string<br \\>\n",
    "split(str=\"\", num=string.count(str)): splits string according to delimiter str (space if not provided) and returns list of substrings; split into at most num substrings if given splitlines( num=string.count('nn')): splits string at all (or num) NEWLINEs and returns a list of each line with NEWLINEs removed<br \\>\n",
    "startswith(str, beg=0,end=len(string)): determines if string or a substring of string (if starting index beg and ending index end are given) starts with substring str; returns true if so and false otherwise<br \\>\n",
    "strip([chars]): performs both lstrip() and rstrip() on string<br \\>\n",
    "swapcase(): inverts case for all letters in string<br \\>\n",
    "title(): returns \"titlecased\" version of string, that is, all words begin with uppercase and the rest are lowercase<br \\>\n",
    "translate(table, deletechars=\"\"): translates string according to translation table str(256 chars), removing those in the del string<br \\>\n",
    "upper(): converts lowercase letters in string to uppercase<br \\>\n",
    "zfill (width): returns original string left padded with zeros to a total of width characters; intended for numbers, zfill() retains any sign given (less one zero) <br \\>\n"
   ]
  },
  {
   "cell_type": "markdown",
   "metadata": {},
   "source": [
    "#### 6.9) Lists and list functions\n",
    "Python's basic data structure are sequences: list, tuples, sets and dictionaries. The basic operations on a sequence include indexing, slicing, adding, multiplying, and checking for membership. In addition, Python has built-in functions for finding the length of a sequence and for finding its largest and smallest elements.\n",
    "\n",
    "We will cover lists since most of the usage of all sequences is similar.\n",
    "\n",
    "The list is a most versatile datatype available in Python which can be written as a list of comma separated values (items) between square brackets. Important thing about a list: items in a list need not be of the same type!\n",
    "\n",
    "Creating a list:\n"
   ]
  },
  {
   "cell_type": "code",
   "execution_count": 48,
   "metadata": {
    "collapsed": false
   },
   "outputs": [
    {
     "name": "stdout",
     "output_type": "stream",
     "text": [
      "list1[0]:  physics\n",
      "list2[1:5]:  [2, 3, 4, 4]\n",
      "Reversing the list1: [2000, 1997, 'chemistry', 'physics']\n",
      "maximum value in list2: 7\n",
      "minimum value in list2: 1\n",
      "counting number of times value 4 in list2: 2\n"
     ]
    }
   ],
   "source": [
    "list1 = ['physics', 'chemistry', 1997, 2000]\n",
    "list2 = [1, 2, 3, 4, 4, 5, 6, 7 ]\n",
    "print (\"list1[0]: \", list1[0])\n",
    "print (\"list2[1:5]: \", list2[1:5])\n",
    "\n",
    "# builtin function in list\n",
    "list1.reverse()\n",
    "print(\"Reversing the list1:\",list1)\n",
    "print(\"maximum value in list2:\",max(list2))\n",
    "print(\"minimum value in list2:\",min(list2))\n",
    "print(\"counting number of times value 4 in list2:\",list2.count(4))"
   ]
  },
  {
   "cell_type": "markdown",
   "metadata": {},
   "source": [
    "Updating lists can be done by reassigning, applying operators (+, -, *) or using append() or other functions. To remove a list element, you can use either the del statement if you know exactly which element(s) you are deleting or the remove() method if you do not know.\n",
    "\n",
    "Because lists are sequences, indexing and slicing work the same way for lists as they do for strings.\n",
    "\n",
    "Some examples on indexing and built-in functions and methods:<br \\>\n",
    "L[2] on 'Python' will give t:<br \\>\n",
    "L[-2] counts from the right:<br \\>\n",
    "L[1:] on ['Java', 'Python'] will slice from the 2nd element onward:<br \\>\n",
    "\n",
    "cmp(list1, list2): compares elements of both lists<br\\>\n",
    "len(list): gives the total length of the list<br\\>\n",
    "max(list): returns item from the list with max value<br\\>\n",
    "min(list): returns item from the list with min value<br\\>\n",
    "list(seq): converts a tuple into list<br\\>\n",
    "list.append(obj): this is not a function but a method and it appends object obj to list<br\\>\n",
    "list.count(obj): this method returns count of how many times obj occurs in list<br\\>\n",
    "list.extend(seq): this method appends the contents of seq to list<br\\>\n",
    "list.index(obj): this method returns the lowest index in list that obj appears<br\\>\n",
    "list.insert(index, obj): this method inserts object obj into list at o_set index<br\\>\n",
    "list.pop(obj=list[-1]): this method removes and returns last object or obj from list<br\\>\n",
    "list.remove(obj): this method removes object obj from list<br\\>\n",
    "list.reverse(): this method reverses objects of list in place<br\\>\n",
    "list.sort([func]): this method sorts objects of list, use compare func if given<br\\>\n"
   ]
  },
  {
   "cell_type": "markdown",
   "metadata": {},
   "source": [
    "#### 6.10)Other Built-in functions\n",
    "Some other (not exhaustive) list of built-in functions: <br \\>\n",
    " all(iterable): returns True if all elements of the iterable are true (or if the iterable is empty) <br \\>\n",
    " any(iterable): returns True if any element of the iterable is true<br \\>\n",
    " bin(x): convert an integer number to a binary string<br \\>\n",
    " callable(object): returnr True if the object argument appears callable<br \\>\n",
    " complex([real[, imag]]): returns a complex number with the value real + imag*1j or converts\n",
    "a string or number to a complex number<br \\>\n",
    " eval(expression[, globals[, locals]]): evaluates the expression<br \\>\n",
    "filter(function, iterable): constructs a list from those elements of iterable for which function\n",
    "returns true<br \\>\n",
    "float([x]): returns a oating point number constructed from a number or string x<br \\>\n",
    " format(value[, format spec]): converts a value to a formatted representation<br \\>\n",
    " frozenset([iterable]): returns a new frozenset object made from iterable<br \\>\n",
    " help([object]): invokes the built-in help system for the object<br \\>\n",
    " hex(x): converts an integer number (of any size) to a lowercase hexadecimal string<br \\>\n",
    " input([prompt]): obtains input from the keyboard<br \\>\n",
    " int(x=0): returns an integer object constructed from a number or string x<br \\>\n",
    " iter(o[, sentinel]): returns an iterator object<br \\>\n",
    " len(s): returns the length (the number of items) of an object<br \\>\n",
    " list([iterable]): returns a list whose items are the same and in the same order as iterable's\n",
    "items<br \\>\n",
    " next(iterator[, default]): retrieves the next item from the iterator<br \\>\n",
    " oct(x): converts an integer number (of any size) to an octal string<br \\>\n",
    " open(name[, mode[, bu_ering]]): opens a _le, returning an object of the file type<br \\>\n",
    " print(objects, sep=' ', end='nn ', _le n= sys.stdout): prints objects to the stream file or screen<br \\>\n",
    " range(start, stop[, step]): function to create lists containing arithmetic progressions. It is most\n",
    "often used in for loops. The arguments must be plain integers. If the step argument is omitted,\n",
    "it defaults to 1. If the start argument is omitted, it defaults to 0. The full form returns a list\n",
    "of plain integers [start, start + step, start + 2 * step, ...]. If step is positive, the last element\n",
    "is the largest start + i * step less than stop; if step is negative, the last element is the smallest\n",
    "start + i * step greater than stop. Make sure that step is not zero. <br \\>\n",
    "sorted(iterable[, cmp[, key[, reverse]]]): returns a new sorted list from the items in iterable<br\\>\n",
    "sum(iterable[, start]): sums the items of an iterable from left to right and returns the total<br\\>\n",
    "tuple([iterable]): returns a tuple whose items are the same and in the same order as iterable's items\n",
    "\n"
   ]
  },
  {
   "cell_type": "code",
   "execution_count": 58,
   "metadata": {
    "collapsed": false
   },
   "outputs": [
    {
     "name": "stdout",
     "output_type": "stream",
     "text": [
      "\n",
      "printing range(10)\n",
      "0\n",
      "1\n",
      "2\n",
      "3\n",
      "4\n",
      "5\n",
      "6\n",
      "7\n",
      "8\n",
      "9\n",
      "\n",
      "printing range(1,11)\n",
      "1\n",
      "2\n",
      "3\n",
      "4\n",
      "5\n",
      "6\n",
      "7\n",
      "8\n",
      "9\n",
      "10\n",
      "\n",
      "printing range(0, 30, 5)\n",
      "0\n",
      "5\n",
      "10\n",
      "15\n",
      "20\n",
      "25\n",
      "\n",
      "printing range(0, 10, 3)\n",
      "0\n",
      "3\n",
      "6\n",
      "9\n",
      "\n",
      "printing range(0, -10, -1)\n",
      "0\n",
      "-1\n",
      "-2\n",
      "-3\n",
      "-4\n",
      "-5\n",
      "-6\n",
      "-7\n",
      "-8\n",
      "-9\n",
      "\n",
      "printing range(0)\n",
      "\n",
      "printing range(1,0)\n"
     ]
    }
   ],
   "source": [
    "print(\"\\nprinting range(10)\")\n",
    "for x in range(10):\n",
    "    print(x)\n",
    "    \n",
    "print(\"\\nprinting range(1,11)\")\n",
    "for x in range(1,11):\n",
    "    print(x)\n",
    "    \n",
    "print(\"\\nprinting range(0, 30, 5)\")\n",
    "for x in range(0, 30, 5):\n",
    "    print(x)\n",
    "\n",
    "print(\"\\nprinting range(0, 10, 3)\")\n",
    "for x in range(0, 10, 3):\n",
    "    print(x)   \n",
    "\n",
    "print(\"\\nprinting range(0, -10, -1)\")\n",
    "for x in range(0, -10, -1):\n",
    "    print(x)\n",
    "\n",
    "print(\"\\nprinting range(0)\")\n",
    "for x in range(0):\n",
    "    print(x)\n",
    "\n",
    "print(\"\\nprinting range(1,0)\")\n",
    "for x in range(1,0):\n",
    "    print(x)\n"
   ]
  },
  {
   "cell_type": "markdown",
   "metadata": {},
   "source": [
    "#### 6.11)Defining and using functions\n",
    "A function is a block of organized, reusable code that is used to perform a single, related action. Functions provide better modularity for your application and a high degree of code reusing. Besides the built-in functions you can create your own functions. You can define functions to provide the required functionality. Here are simple rules to define a function in Python:<br \\>\n",
    "1 Function blocks begin with the keyword def followed by the function name and parentheses (( ) ). <br \\>\n",
    "2 Any input parameters or arguments should be placed within these parentheses. You can also define parameters inside these parentheses. <br \\>\n",
    "3 The first statement of a function can be optional if it is between \"\"<br \\>\n",
    "4 The code block within every function starts with a colon (:) and is indented<br \\>\n",
    "5 The statement return [expression] exits a function, optionally passing back an expression\n",
    "to the caller. A return statement with no arguments is the same as return None. <br \\>\n",
    "\n",
    "def functionname( parameters ): <br \\>\n",
    "\"function_docstring\"<br \\>\n",
    "function_suite<br \\>\n",
    "return [expression] <br \\>\n",
    "\n",
    "6 By default, parameters have a positional behaviour and you need to inform them in the same order that they were defined. <br \\>\n",
    "\n",
    "7 Defining a function only gives it a name, specifies the parameters that are to be included in\n",
    "the function and structures the blocks of code. You can execute it by calling it from another\n",
    "function or directly from the Python prompt. <br \\>\n",
    "\n",
    "#!/usr/bin/python3<br \\>\n",
    "\n",
    "#Function definition is here<br \\>\n"
   ]
  },
  {
   "cell_type": "code",
   "execution_count": 3,
   "metadata": {
    "collapsed": false
   },
   "outputs": [
    {
     "name": "stdout",
     "output_type": "stream",
     "text": [
      "Values inside the function before change:  [10, 20, 30]\n",
      "Values inside the function after change:  [10, 20, 50]\n",
      "Values outside the function:  [10, 20, 50]\n"
     ]
    }
   ],
   "source": [
    "def changeme( mylist ):\n",
    "    \"This changes a passed list into this function\"\n",
    "    print (\"Values inside the function before change: \", mylist)\n",
    "    mylist[2]=50\n",
    "    print (\"Values inside the function after change: \", mylist)\n",
    "    return\n",
    "# Now you can call changeme function\n",
    "mylist = [10,20,30]\n",
    "changeme( mylist )\n",
    "print (\"Values outside the function: \", mylist)\n"
   ]
  },
  {
   "cell_type": "markdown",
   "metadata": {},
   "source": [
    "You can call a function by using required, keyword, default and variable-length arguments:\n",
    "required arguments are the arguments passed to a function in correct positional order; default\n",
    "argument is an argument that assumes a default value if a value is not provided in the function call for that argument (the def would have an assigned value in that case); if a function may or may not have all arguments you can use variable arguments (those are preceded by * in def)\n"
   ]
  },
  {
   "cell_type": "markdown",
   "metadata": {},
   "source": [
    "#### 6.12)Local and global variables\n",
    "Variables that are defined inside a function body have a local scope, and those defined outside have a global scope. This means that local variables can be accessed only inside the function in which they are declared, whereas global variables can be accessed throughout the program body by all functions. When you call a function, the variables declared inside it are brought into scope."
   ]
  },
  {
   "cell_type": "markdown",
   "metadata": {},
   "source": [
    "#### 6.13) Modules\n",
    "If you quit from the Python interpreter and enter it again, the definitions you have made (functions and variables) are lost. Therefore, if you want to write a somewhat longer program, you need to use a text editor to prepare the input for the interpreter and running it with that file as input instead. This is known as creating a script. As your program gets longer, you may want to split it into several files for easier maintenance. You may also want to use a handy function that you have written in several programs without copying its definition into each program.<br \\>\n",
    "\n",
    "To support this, Python created what is called modules: definitions from a module can be imported into other modules or into the main module. A module is a file containing Python definitions and statements. The file name is the module name with the suffix .py appended.<br \\>\n",
    "\n",
    "Simply, a module is a file consisting of Python code. A module can define functions, classes and variables. A module can also include runnable code. It can be seen as similar to a *.m file in Matlab that includes definition of functions.<br \\>\n",
    "\n",
    "Many modules exist and are available for Python users that can be reused by the community.\n",
    "We will be using some of those in the course.<br \\>\n",
    "\n",
    "In order for you to use any Python source file as a module you need to execute an import\n",
    "statement: <br \\>\n",
    "\n",
    "import module1[, module2[,... moduleN] <br \\>\n",
    "\n",
    "When the interpreter encounters an import statement, it imports the module if the module is present in the search path. A module is loaded only once, regardless of the number of times it is imported. This prevents the module execution from happening over and over again if multiple imports occur.<br \\>\n",
    "Once you import a module, the module's name (as a string) is available as the value of the global variable name . For instance, if we have a file:\n"
   ]
  },
  {
   "cell_type": "code",
   "execution_count": 1,
   "metadata": {
    "collapsed": false
   },
   "outputs": [],
   "source": [
    "# Fibonacci numbers module\n",
    "def fib(n): # write Fibonacci series up to n\n",
    "    a, b = 0, 1\n",
    "    while b < n:\n",
    "        print(a,b)\n",
    "        a, b = b, a+b\n",
    "\n",
    "        \n",
    "def fib2(n): # return Fibonacci series up to n\n",
    "    result = []\n",
    "    a, b = 0, 1\n",
    "    while b < n:\n",
    "        result.append(b)\n",
    "        a, b = b, a+b\n",
    "        return result\n",
    "\n",
    "\n",
    "#That is called fibo.py you can import it using\n"
   ]
  },
  {
   "cell_type": "markdown",
   "metadata": {},
   "source": [
    "import fibo\n",
    "\n",
    "And that allows you to execute\n",
    "\n",
    "fibo.fib(1000)\n",
    "\n",
    "And if you desire to do so, you can assign that function to another local name and keep using the local name\n",
    "\n",
    "fiblocal=fido.fib<br \\>\n",
    "fiblocal(1400)\n",
    "\n",
    "You can alternatively only import from a module the names that you require. The from...import\n",
    "is used for this:\n",
    "\n",
    "from modname import name1[, name2[, ... nameN]]\n",
    "\n",
    "This statement does not import the entire modname module into the current namespace, only the item itname from the module modname into the global symbol table of the importing module. So:\n",
    "\n",
    "from fibo import fib\n",
    "\n",
    "Will import only fib from fibo into the current namespace and to use that function you will now:\n",
    "\n",
    "fib(1000)\n",
    "\n",
    "Which means that you do not need to call the module name and you will not need to assign to a local variable, it is directly done. If you use an from import with an * all names are imported, but it can cause difficulty in understanding your code.\n",
    "When you import a module, the Python interpreter searches for the module in the following sequences:\n",
    "\n",
    "1. The current directory\n",
    "2. Each directory in the shell variable PYTHONPATH\n",
    "3. The default path\n",
    "\n",
    "So beware duplicate modules that can cause differences in execution.\n",
    "\n",
    "A Python statement can access variables in a local namespace and in the global namespace. If a local and a global variable have the same name, the local variable shadows the global variable. Python makes educated guesses on whether variables are local or global. It assumes that any variable assigned a value in a function is local.\n",
    "\n",
    "In order to assign a value to a global variable within a function, you must first use the global statement.\n",
    "\n",
    "You can know which variables are local or global by calling locals() and globals() from that function."
   ]
  },
  {
   "cell_type": "markdown",
   "metadata": {},
   "source": [
    "#### 6.14) Files\n",
    "\n",
    "The basic I/O functions available in Python are:<br\\>\n",
    "    \n",
    "\u000f Printing to screen\n",
    "\u000f Capturing from keyboard\n",
    "\u000f Using I/O files\n",
    "\n",
    "The simplest way to produce output is using the print statement where you can pass zero or more expressions separated by commas. This is obtained by the print function that converts the expressions you pass into a string and writes the result to standard output. Capturing from the keyboard is the simplest way to obtain an input for a program. The input([prompt]) function accomplishes this.\n",
    "\n",
    "Python provides basic functions and methods necessary to manipulate files by default. You can do most of the file manipulation using a built-in file object. The basic steps to access a file are:\n",
    "\n",
    "1. Open the file\n",
    "2. Read or write from/to the file\n",
    "3. Close the file\n",
    "\n",
    "Before you can read or write a file, you have to open it using Python built-in open() function. This function creates a file object, which would be utilized to call other support methods associated with it.\n",
    "\n",
    "file object = open(file_name [, access_mode][, buffering])<br\\>\n",
    "\n",
    "Open parameter details:<br\\>\n",
    "    \n",
    "1. file name: The file name argument is a string value that contains the name of the file that you want to access.\n",
    "2. access mode: The access mode determines the mode in which the file has to be opened, i.e., read, write, append, etc.\n",
    "3. buffering: If the buffering value is set to 0, no buffering takes place. If the buffering value is 1, line buffering is performed while accessing a file. If you specify the buffering value as an integer greater than 1, then buffering action is performed with the indicated buffer size. If negative, the buffer size is the system default(default behaviour).\n",
    "\n",
    "The different modes of opening a file:<br\\>\n",
    "    \n",
    "\u000f r: File for reading only. The file pointer is placed at the beginning of the file. This is the default mode.<br\\>\n",
    "\u000f rb: File for reading only in binary format. The file pointer is placed at the beginning of the file. This is the default mode.<br\\>\n",
    "\u000f r+: File for both reading and writing. The file pointer placed at the beginning of the file.<br\\>\n",
    "\u000f rb+: File for both reading and writing in binary format. The file pointer placed at the beginning of the file.<br\\>\n",
    "\u000f w: File for writing only. Overwrites the file if the file exists. If the file does not exist, creates a new file for writing.<br\\>\n",
    "\u000f wb: File for writing only in binary format. Overwrites the file if the file exists. If the file does not exist, creates a new file for writing.<br\\>\n",
    "\u000f w+: File for both writing and reading. Overwrites the existing file if the file exists. If the file does not exist, creates a new file for reading and writing.<br\\>\n",
    "\u000f wb+: File for both writing and reading in binary format. Overwrites the existing file if the file exists. If the file does not exist, creates a new file for reading and writing.<br\\>\n",
    "\u000f a: File for appending. The file pointer is at the end of the file if the file exists. That is, the file is in the append mode. If the file does not exist, it creates a new file for writing.<br\\>\n",
    "\u000f ab: File for appending in binary format. The file pointer is at the end of the file if the file exists. That is, the file is in the append mode. If the file does not exist, it creates a new file for writing.<br\\>\n",
    "\u000f a+: File for both appending and reading. The file pointer is at the end of the file if the file exists. The file opens in the append mode. If the file does not exist, it creates a new file for reading and writing.<br\\>\n",
    "\u000f ab+: File for both appending and reading in binary format. The file pointer is at the end of the file if the file exists. The file opens in the append mode. If the file does not exist, it creates a new file for reading and writing.<br\\>\n",
    "\n",
    "Once a file is opened and you have one file object, you can get various information related to that file. You access that information using methods of that object:\n",
    "    \n",
    "\u000f file.closed: returns true if file is closed, false otherwise<br\\>\n",
    "\u000f file.mode: returns access mode with which file was opened<br\\>\n",
    "\u000f file.name: returns name of the file<br\\>\n",
    "\n",
    "    \n",
    "Example<br\\>\n",
    "#Open a file<br\\>\n",
    "fo = open(\"foo.txt\", \"wb\")<br\\>\n",
    "print (\"Name of the file: \", fo.name)<br\\>\n",
    "print (\"Closed or not : \", fo.closed)<br\\>\n",
    "print (\"Opening mode : \", fo.mode)<br\\>\n",
    "fo.close()<br\\>\n",
    "\n",
    "This opens the file foo.txt in write mode for binary data and prints the name of the file, says its name and that it is not closed as well as the mode in which it was opened. It finally closes the file and therefore  ushes any unwritten information and closes the file object, after which no more writing can be done. Python automatically closes a file when the reference object of a file is reassigned to another file but it is a good practice to use the close() method to close a file.\n",
    "\n",
    "To write into a file we use the write method. The write method writes any string (note that a string is not just text string, it can be any kind of string or list from Python) to an open file. It is important to then be aware that Python strings can have binary data and not just text. The write method does not add a newline character to the end of the string unless specified.\n",
    "\n",
    "fileObject.write(string);<br\\>\n",
    "Example:\n",
    "\n",
    "#Open a file<br\\>\n",
    "fo = open(\"foo.txt\", \"w\")<br\\>\n",
    "fo.write( \"Python is a great language.\\nYeah its great!!\\n\")<br\\>\n",
    "#Close opend file<br\\>\n",
    "fo.close()<br\\>\n",
    "\n",
    "The above creates foo.txt file and writes given content in that file and finally it would close that file. Because the string that was written was text, the file ends being a text file, but it could have been written in binary if the string had been binary. However, if the file is open as binary (wb) it will be written in binary only.\n",
    "\n",
    "To read from a file we use the read method.<br\\>\n",
    "fileObject.read([count]);<br\\>\n",
    "\n",
    "Here, we pass as parameter the number of bytes to be read from the opened file. This method starts reading from the beginning of the file and if count is missing, then it tries to read as much as possible, maybe until the end of file. You can use the tell() method to obtain the current position within the file; in other words, the next read or write will occur at that many bytes from the beginning of the file. The seek(offset[,from]) method changes the current file position. Some other methods allow manipulation of files at the OS level: rename(), remove(), mkdir(),\n",
    "chdir(), getcwd(), rmdir()."
   ]
  },
  {
   "cell_type": "code",
   "execution_count": 3,
   "metadata": {
    "collapsed": false
   },
   "outputs": [
    {
     "name": "stdout",
     "output_type": "stream",
     "text": [
      "\n",
      " The length of the file is: 6930000 as expected from 15000 samples x 462 lines\n",
      "[  0.00000000e+00   8.00000000e-09   1.60000000e-08 ...,   1.19976000e-04\n",
      "   1.19984000e-04   1.19992000e-04]\n",
      "\n",
      " The length of the time array is: 15000\n"
     ]
    },
    {
     "data": {
      "image/png": "[encoded data removed]",
      "text/plain": [
       "<matplotlib.figure.Figure at 0xaee9fd0>"
      ]
     },
     "metadata": {},
     "output_type": "display_data"
    }
   ],
   "source": [
    "#we have first this command that initialize and matplotlib (library) for plotting and we specify that we want those plots inline in this notebook\n",
    "%matplotlib inline\n",
    "\n",
    "#now we import different packages that will allow to do math, lineal algebra, numerical operations, array operations and plotting\n",
    "import scipy as Sci\n",
    "import scipy.linalg\n",
    "import numpy as np\n",
    "import pylab as pl\n",
    "import matplotlib.pyplot as plt\n",
    "\n",
    "#we use a simple open command for the file (basic Python)\n",
    "f = open('UltrasoundSampleSignal.dat','rb')   # Windows\n",
    "#we read it using a numpy (therefore the np.) command that allows direct reading from file into an array\n",
    "AllSignal = np.fromfile(f,count=-1,dtype=np.uint16)\n",
    "#to verify the size of the file I am printing here the lenght of that array \n",
    "print('\\n The length of the file is: ' + str(len(AllSignal)) + ' as expected from 15000 samples x 462 lines')\n",
    "#we will now populate an array for the time which we now is 1/125MHz step for a total of 15000\n",
    "x=np.arange(0,15000/125e6,1/125e6)  #start,stop,step\n",
    "print(x)\n",
    "\n",
    "print('\\n The length of the time array is: ' + str(len(x)) )\n",
    "#now we plot only the first line acquired (15000 samples)\n",
    "plt.plot(x,AllSignal[:15000])\n",
    "plt.title('First Line Acquired')\n",
    "plt.xlabel('Time')\n",
    "plt.ylabel('Unsigned Integer Value')\n",
    "plt.ticklabel_format(style='sci', axis='x', scilimits=(0,0))\n",
    "f.close() #close the file"
   ]
  },
  {
   "cell_type": "markdown",
   "metadata": {},
   "source": [
    "### 7)Jupyter Notebooks\n",
    "The Jupyter Notebook is a web application that allows you to create and share documents that contain live code, equations, visualizations and explanatory text. Uses include: data cleaning and transformation, numerical simulation, statistical modelling, machine learning and much more.\n",
    "\n",
    "It supports over 40 programming languages, including those popular in data science such as Python, R, Julia and Scala.\n",
    "\n",
    "We will use this tool to share code in Python and to execute interactively that code.\n",
    "\n",
    "The nbviewer in Jupyter renders the notebooks but it does not hosts the notebooks. Those are hosted anywhere in the web and by giving an URL nbviewer can execute them.\n",
    "\n",
    "Our first notebook will have the most basic first example for a code in Python. You can also directly browse collections of notebooks in public GitHub repositories, for example the IPython examples. I have hosted notebooks for our course in my GitHub repository and made them public, so those URLs will be available to you.\n",
    "\n",
    "To run and/or modify a notebook, you will require:\n",
    "    \n",
    "1. Download the notebook locally so you can modify it\n",
    "2. Have Jupyter notebook modules (code) in Python which are found in the Anaconda distribution of Python\n",
    "\n",
    "First download the notebook by clicking on the \"down\" arrow at the top right of the webpage (to the right of a \"cat\" from GitHub). A file called SimpleExample.ipynb (i.e. iPython Notebook) will download into your computer. That is the source for this notebook and you will be editing and running it.\n",
    "\n",
    "Anaconda is an open data science platform with many available Python modules. It is a high performance distribution of Python and R and includes over 100 Python, R and Scala packages for data science. It is a powerful tool for engineering and scientific calculations and it is what we will be using.\n",
    "\n",
    "Other packages will be installed with conda, included with Anaconda distribution 4.1 are several new extensions for the Jupyter Notebook that make the notebook easier to use.\n",
    "\n",
    "We will then install Anaconda on your terminals. Go to https://www.continuum.io/downloads and follow all the instructions to download and install.\n",
    "\n",
    "When you download you will be proposed to receive a cheat sheet for Anaconda, you are welcome to read through but we won't need you to do so.\n",
    "\n",
    "Type<br \\>\n",
    "bash Anaconda3-4.1.1-Linux-x86_64.sh\n",
    "\n",
    "And this will install the latest version of Anaconda for Python 3.5 version in Linux. Before typing the bash command make sure you are in your Downloads directory.\n",
    "\n",
    "You have now Anaconda, you can install similarly on a PC or Mac if you want to.\n",
    "\n",
    "In your terminal you can verigy you have conda by typing\n",
    "\n",
    "conda -info\n",
    "\n",
    "If the command is not recognized, you did not install properly.\n",
    "\n",
    "NOTE: you will have to close and reopen your command window after install for the command to be recognized (path is not up yet).\n",
    "\n",
    "Your will now run the editor/runner of the notebook but make sure that you are in the directory where you have the local notebook that you downloaded (I suggest you move it to your own directory). Move there and run:\n",
    "\n",
    "    jupyter notebook\n",
    "\n",
    "That will automatically start a webpage with jupyter that looks almost as the one before, but you can now modify the text.\n",
    "\n",
    "Now that you can modify that notebook, new tools are open to you in Jupyter. Let's explore them:\n",
    "\n",
    "Your notebook is made of \"Cells\" that can be text (Markdown) or code. The toolbar will allow\n",
    "\n",
    "you editing, adding, cutting and moving through your cells.\n",
    "\n",
    "You can run your pieces of code by Shift+Enter in a code cell. Pleas do so for your only code cell.\n",
    "\n",
    "To see the difference, edit that string to anything and re-run, you should see a different output now. You can also change the Markdown and so on. You are now creating a Notebook!\n",
    "\n",
    "For many examples during lectures we will be reading through Notebooks that I made public for\n",
    "the course, and you can just view them with a web browser, but I strongly suggest you download\n",
    "them to your local repositories before the lecture and you play around with the code so you can test\n",
    "features in it yourself.\n",
    "\n",
    "\n"
   ]
  },
  {
   "cell_type": "markdown",
   "metadata": {
    "collapsed": true
   },
   "source": [
    "### 8) Github\n",
    "\n",
    "GitHub is a web-based Git repository hosting service. It offers all of the distributed version control and source code management (SCM) functionality of Git as well as adding its own features. It provides access control and several collaboration features such as bug tracking, feature requests, task management, and wikis for every project.\n",
    "\n",
    "GitHub offers both plans for private repositories, and free accounts which are commonly used to host open-source software projects. As of April 2016, GitHub reports having more than 14 million users and more than 35 million repositories, making it the largest host of source code in the world.\n",
    "\n",
    "Scope<br\\>\n",
    "GitHub is mostly used for code.\n",
    "\n",
    "In addition to source code, GitHub supports the following formats and features:\n",
    "\n",
    "1)Documentation, including automatically-rendered README files in a variety of Markdown-like file formats (see README files on GitHub)<br\\>\n",
    "2)Issue tracking (including feature requests) with labels, milestones, assignees and a search engine.<br\\>\n",
    "3)Wikis<br\\>\n",
    "4)Pull requests with code review and comments.<br\\>\n",
    "5)Commits history.<br\\>\n",
    "6)Graphs: pulse, contributors, commits, code frequency, punch card, network, members.<br\\>\n",
    "7)Integrations Directory.<br\\>\n",
    "8)Unified and split diffs.<br\\>\n",
    "9)Email notifications.<br\\>\n",
    "10)Option to subscribe someone to notifications by @ mentioning them.<br\\>\n",
    "\n",
    "#### Create a new repository on GitHub\n",
    "\n",
    "1)In the upper-right corner of any page, click + and then click New repository.<br\\>\n",
    "2)Create a short, memorable name for your repository. For example, \"hello-world\".<br\\>\n",
    "3)Optionally, add a description of your repository. For example, \"My first repository on GitHub.\"<br\\>\n",
    "4)Choose between creating a public or private repository.<br\\>\n",
    "\n",
    "    Public repositories are a great choice for getting started! They're visible to any user on GitHub, so you can benefit from a collaborative community.\n",
    "    \n",
    "    Private repositories require a little more setup. They're only available to you, the repository owner, as well as any collaborators you choose to share with. Private repositories are only available for paid accounts.<br\\>\n",
    "5)Select Initialize this repository with a README\n",
    "6)Click Create repository.\n",
    "\n",
    "#### Adding a file to a repository\n",
    "\n",
    "1)On GitHub, navigate to the main page of the repository.<br\\>\n",
    "2)Under your repository name, click Upload files.<br\\>\n",
    "3)Drag and drop the file or folder you'd like to upload to your repository onto the file tree.<br\\>\n",
    "4)At the bottom of the page, type a short, meaningful commit message that describes the change you made to the file.<br\\>\n",
    "5)Below the commit message fields, decide whether to add your commit to the current branch or to a new branch. If your current branch is master, you should choose to create a new branch for your commit and then create a pull request.<br\\>\n",
    "6)Click Commit changes.<br\\>\n",
    "\n",
    "\n",
    "https://github.com/krishh8899/ENGI-5631-Final-Project\n",
    "\n",
    "we have posted this notebook in the above mentioned address.\n",
    "\n",
    "click on clone or download button to download file.\n",
    "\n"
   ]
  },
  {
   "cell_type": "markdown",
   "metadata": {},
   "source": [
    "### 9) Fourier Transform\n",
    "\n",
    "The Fourier Transform is one of the most powerful and well known tools to analyse frequency behaviour. As such, it allows performing many operations in signal and imaging processing such as filtering, signal evaluation, signal characterization, etc.\n",
    "\n",
    "In particular for medical applications some of the most widespread applications of Fourier Transform in signal processing are:\n",
    "1. Filtering the signal to extract the information from the noise (i.e. the respiration rate will add important noice to an ECG signal but its frequency is much lower and can then be subtracted)\n",
    "2. Evaluating the magnitude at specific frequencies of the signal to evaluate thresholds in an acquired signal (i.e. the detection of a seizure onset in EEG is characterized for large broadband signals)\n",
    "3. The appearance of harmonics within a signal which may indicate there is an abnormality (i.e. the detection of harmonics in an ECG may indicate an arhytmia)\n",
    "\n",
    "Fourier transforms present important properties that allow to combine analysis in frequency with simplicity:\n",
    "1. Linearity: the transform of a sum is the sum of the transforms\n",
    "2. Symmetry: the transform of the negative frequency is the conjugate of the transform\n",
    "3. Convolution: the transform of a convolution is the product of each transform\n",
    "\n",
    "In addition, filter design using frequency response is an important feature, and analysis of the response of a digital filter is usually done as a function of frequency:\n",
    "1. It is often necessary to understand the behaviour of your signal before proposing the design of a filter\n",
    "2. Once a filter is chosen, the impact of the order on the frequency behaviour of the filter and how that may affect the signal is important\n",
    "\n",
    "The Discrete Fourier Transform (DFT) is the primary analysis tool for Fourier Transform nowadays since much of the processing is performed on digitized signals.\n",
    "\n",
    "Using the DFT is equivalent to obtain a periodic signal out of a sequence (samples) of values.\n",
    "\n",
    "This notebook will show how the DFT is implemented on a signal and how we can detect the presence and main frequency components of noise within the signal as well as the main frequency of the signal of interest.\n",
    "\n",
    "We will work on an ultrasound signal that was acquired over time where some noise appears at some time point (we will determine when) and we will analyse the frequency component of the noise and the signal.\n",
    "\n",
    "Some specifics about this acquired file: we obtained 15000 samples with a frequency of sampling of 125MHz, then waited another trigger and repeated for a total of 462 times.\n",
    "\n",
    "We will also use this as an example on Python and simple signal analysis using Python.\n",
    "\n",
    "We will start by opening the binary file where the signal was stored in unsigned integer (16 bits) and reading all the data into an array:"
   ]
  },
  {
   "cell_type": "code",
   "execution_count": 41,
   "metadata": {
    "collapsed": false
   },
   "outputs": [
    {
     "name": "stdout",
     "output_type": "stream",
     "text": [
      "\n",
      " The length of the file is: 6930000 as expected from 15000 samples x 462 lines\n",
      "\n",
      " The length of the time array is: 15000\n"
     ]
    },
    {
     "data": {
      "image/png": "[encoded data removed]",
      "text/plain": [
       "<matplotlib.figure.Figure at 0x4212c18>"
      ]
     },
     "metadata": {},
     "output_type": "display_data"
    }
   ],
   "source": [
    "#we have first this command that initialize and matplotlib (library) for plotting and we specify that we want those plots inline in this notebook\n",
    "%matplotlib inline\n",
    "\n",
    "#now we import different packages that will allow to do math, lineal algebra, numerical operations, array operations and plotting\n",
    "import scipy as Sci\n",
    "import scipy.linalg\n",
    "import numpy as np\n",
    "import pylab as pl\n",
    "import matplotlib.pyplot as plt\n",
    "\n",
    "#we use a simple open command for the file (basic Python)\n",
    "f = open('UltrasoundSampleSignal.dat','rb')   # Windows\n",
    "#we read it using a numpy (therefore the np.) command that allows direct reading from file into an array\n",
    "AllSignal = np.fromfile(f,count=-1,dtype=np.uint16)\n",
    "#to verify the size of the file I am printing here the lenght of that array \n",
    "print('\\n The length of the file is: ' + str(len(AllSignal)) + ' as expected from 15000 samples x 462 lines')\n",
    "#we will now populate an array for the time which we now is 1/125MHz step for a total of 15000\n",
    "x=np.arange(0,15000/125e6,1/125e6)  #start,stop,step\n",
    "\n",
    "print('\\n The length of the time array is: ' + str(len(x)) )\n",
    "#now we plot only the first line acquired (15000 samples)\n",
    "plt.plot(x,AllSignal[:15000])\n",
    "plt.title('First Line Acquired')\n",
    "plt.xlabel('Time')\n",
    "plt.ylabel('Unsigned Integer Value')\n",
    "plt.ticklabel_format(style='sci', axis='x', scilimits=(0,0))\n",
    "f.close() #close the file\n"
   ]
  },
  {
   "cell_type": "code",
   "execution_count": 42,
   "metadata": {
    "collapsed": false
   },
   "outputs": [
    {
     "data": {
      "image/png": "[encoded data removed]",
      "text/plain": [
       "<matplotlib.figure.Figure at 0xa9764e0>"
      ]
     },
     "metadata": {},
     "output_type": "display_data"
    }
   ],
   "source": [
    "#We continue plotting other lines (we will plot every line and there are 462) \n",
    "totlines=np.arange(462)\n",
    "for index in totlines:\n",
    "    plt.plot(x,AllSignal[index*15000:(index+1)*15000])\n",
    "    plt.xlabel('Time')\n",
    "    plt.ylabel('Unsigned Integer Value')\n",
    "    plt.ticklabel_format(style='sci', axis='x', scilimits=(0,0))"
   ]
  },
  {
   "cell_type": "markdown",
   "metadata": {},
   "source": [
    "We can see from above that there are some lines that have a large noise.\n",
    "\n",
    "Your first exercise will be to determine if the noise appears at a specific time point by simple analysis line by line (modify the code and run until you find the line that has noise and the next that is clean). You can simply modify the code until you find the line that is noisy or you can make a loop and subplots for extra credit.\n",
    "\n",
    "We will here analyse the frequency component of a clean and a noisy line."
   ]
  },
  {
   "cell_type": "code",
   "execution_count": 45,
   "metadata": {
    "collapsed": false
   },
   "outputs": [
    {
     "data": {
      "image/png": "[encoded data removed]",
      "text/plain": [
       "<matplotlib.figure.Figure at 0xfd3b518>"
      ]
     },
     "metadata": {},
     "output_type": "display_data"
    }
   ],
   "source": [
    "#The first line is clear\n",
    "FirstLine=AllSignal[:15000]\n",
    "#Line 83 has noise\n",
    "NoisyLine=AllSignal[100*15000:101*15000]\n",
    "\n",
    "plt.subplots_adjust( hspace = .5 )\n",
    "plt.subplot(211)\n",
    "plt.plot(x,FirstLine)\n",
    "plt.ylabel('Fist line - No noise')\n",
    "plt.ticklabel_format(style='sci', axis='x', scilimits=(0,0))\n",
    "plt.subplot(212)\n",
    "plt.plot(x,NoisyLine)\n",
    "plt.xlabel('Time')\n",
    "plt.ylabel('Line 83 - Noise')\n",
    "plt.ticklabel_format(style='sci', axis='x', scilimits=(0,0))"
   ]
  },
  {
   "cell_type": "markdown",
   "metadata": {},
   "source": [
    "Now that we have a noisy and a clean line we will obtain the frequency component of those signals using DFT.\n",
    "\n",
    "First lets define the DFT:\n",
    "\n",
    "$$ A_k=\\sum_{m=0}^{n-1}a_m \\exp \\left(-2\\pi i \\frac{mk}{n} \\right ) [k=0,...,n-1] $$\n",
    "\n",
    "If we notice the signal has a dc component (not centered in zero) so unless we want to have a spectrum with a large value of dc or zero frequency we will first remove the dc component (by substracting the mean of the data).\n",
    "\n",
    "We will then obtain the DFT."
   ]
  },
  {
   "cell_type": "code",
   "execution_count": 46,
   "metadata": {
    "collapsed": false
   },
   "outputs": [
    {
     "data": {
      "image/png": "[encoded data removed]",
      "text/plain": [
       "<matplotlib.figure.Figure at 0x14345b00>"
      ]
     },
     "metadata": {},
     "output_type": "display_data"
    }
   ],
   "source": [
    "#we first eliminate dc\n",
    "dataF=FirstLine-np.mean(FirstLine)\n",
    "L=len(dataF)\n",
    "#the frequencies after fft will be between 0 and 1/2 of the sampling frequency\n",
    "f=np.arange(0,125e6/2,125e6/15000)\n",
    "Y=np.fft.fft(dataF)\n",
    "Pyy=abs(Y)/L\n",
    "#note: we are showing just L/2 elements which are the positive frequencies and we are normalizing\n",
    "plt.subplot(121)\n",
    "plt.plot(f, Pyy[:7500])\n",
    "plt.title('DFT of clean line')\n",
    "plt.ticklabel_format(style='sci', axis='x', scilimits=(0,0))\n",
    "#Zooming into just less than 15MHz\n",
    "inx=np.where(f>15e6)\n",
    "inx=inx[0]\n",
    "plt.subplot(122)\n",
    "plt.plot(f[:inx[0]], Pyy[:inx[0]])\n",
    "plt.title('DFT of clean line')\n",
    "plt.ticklabel_format(style='sci', axis='x', scilimits=(0,0))"
   ]
  },
  {
   "cell_type": "markdown",
   "metadata": {},
   "source": [
    "### 8)References\n",
    "1. http://mathesaurus.sourceforge.net/matlab-python-xref.pdf\n",
    "2. https://docs.python.org/3/tutorial/index.html\n",
    "3. https://nbviewer.jupyter.org/\n",
    "\n"
   ]
  },
  {
   "cell_type": "markdown",
   "metadata": {},
   "source": [
    "Your work to do is:\n",
    "\n",
    "* Write a python program to find the maximun , minimun and mean of the 2 two numbers.\n",
    "* If you have this file UltrasoundSampleSignal.dat in your working directory , how do you open and close it.\n",
    "* How to bold a string in Markdown cell.\n",
    "* What is the file extension for a jupyter notebook file.\n",
    "\n",
    "\n",
    "Comments and corrections welcome!"
   ]
  },
  {
   "cell_type": "code",
   "execution_count": null,
   "metadata": {
    "collapsed": true
   },
   "outputs": [],
   "source": []
  }
 ],
 "metadata": {
  "anaconda-cloud": {},
  "kernelspec": {
   "display_name": "Python [Root]",
   "language": "python",
   "name": "Python [Root]"
  },
  "language_info": {
   "codemirror_mode": {
    "name": "ipython",
    "version": 3
   },
   "file_extension": ".py",
   "mimetype": "text/x-python",
   "name": "python",
   "nbconvert_exporter": "python",
   "pygments_lexer": "ipython3",
   "version": "3.5.2"
  }
 },
 "nbformat": 4,
 "nbformat_minor": 0
}
